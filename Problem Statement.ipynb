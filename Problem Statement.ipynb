{
 "cells": [
  {
   "cell_type": "markdown",
   "metadata": {},
   "source": [
    "# Problem statements:"
   ]
  },
  {
   "cell_type": "markdown",
   "metadata": {},
   "source": [
    "#Determine if a year is a leap year using nested condition statement:"
   ]
  },
  {
   "cell_type": "markdown",
   "metadata": {},
   "source": [
    "my code"
   ]
  },
  {
   "cell_type": "code",
   "execution_count": null,
   "metadata": {},
   "outputs": [],
   "source": [
    "year = int(input(\"Enter the year\"))\n",
    "\n",
    "if year>=2000:\n",
    "    print(\"The statement is true \")\n",
    "    if year %4 == 0:\n",
    "        print(\"The year actual is a leap year\")\n",
    "    else:\n",
    "        print(\"The year is not a leap year\")  \n",
    "\n",
    "else:\n",
    "    print(\"The statement is negative\")       "
   ]
  },
  {
   "cell_type": "markdown",
   "metadata": {},
   "source": [
    "Coders code"
   ]
  },
  {
   "cell_type": "code",
   "execution_count": null,
   "metadata": {},
   "outputs": [],
   "source": [
    "year = int(input(\"Enter the number\"))\n",
    "\n",
    "if year % 4 == 0:\n",
    "    if year % 100 == 0:\n",
    "        print(\"The year is leap year\")\n",
    "        if year % 400 == 0:\n",
    "            print(\"The year is a leap year\")\n",
    "        else:\n",
    "            print(\"The year is not a leap year\") \n",
    "    else: \n",
    "        print(\"The year is  not leap year\")         \n",
    "else:\n",
    "    print(\"The statement is functionally negative\")              "
   ]
  },
  {
   "cell_type": "markdown",
   "metadata": {},
   "source": [
    "Write a simple calculator praogarm using  conditional statement with take an input from the user"
   ]
  },
  {
   "cell_type": "code",
   "execution_count": 2,
   "metadata": {},
   "outputs": [
    {
     "name": "stdout",
     "output_type": "stream",
     "text": [
      "The division is successfully done = 2.0\n",
      "The program is successfully done\n"
     ]
    }
   ],
   "source": [
    "num1 = float(input(\"Enter the first  number\"))\n",
    "num2 = float(input(\"Enter the second  number\"))\n",
    "\n",
    "operation = input(\"Enter the opeation (+,-,*,/):\")\n",
    "\n",
    "\n",
    "if operation == '+':\n",
    "    result = num1+num2\n",
    "    print(\"The addition is successfully done\",\"=\" ,result)\n",
    "elif operation == '-':\n",
    "    result = num1-num2\n",
    "    print(\"The subtraction is successfully done\",\"=\",result)\n",
    "elif operation == '*':\n",
    "    result = num1*num2\n",
    "    print(\"The multiplication is successfully done \",\"=\",result)\n",
    "elif operation == '/':\n",
    "    result = num1/num2\n",
    "    print(\"The division is successfully done\",\"=\",result)\n",
    "else:\n",
    "    print(\"The operation is invalid\")   \n",
    "\n",
    "\n",
    "\n",
    "print(\"The program is successfully done\")     \n",
    "\n"
   ]
  },
  {
   "cell_type": "markdown",
   "metadata": {},
   "source": [
    "Determine the ticket price based on age and wheather the person is a student"
   ]
  },
  {
   "cell_type": "code",
   "execution_count": 1,
   "metadata": {},
   "outputs": [
    {
     "name": "stdout",
     "output_type": "stream",
     "text": [
      "The person is older & ticket price is 50rs\n"
     ]
    }
   ],
   "source": [
    "age = int(input(\"Enter the number\"))\n",
    "is_student = input(\"Is the person a student? (yes/no): \")\n",
    "\n",
    "\n",
    "if age < 5:\n",
    "    print(\"The ticket is free \")\n",
    "elif age <= 12:\n",
    "    print(\"The ticket price is 10rs\")\n",
    "elif age <= 18:\n",
    "    if is_student == 'yes':\n",
    "        print(\"The ticket price is 15rs \")\n",
    "    else:\n",
    "        print(\"The person is not a student & ticket price is 20rs\")       \n",
    "\n",
    "else:\n",
    "    print(\"The person is older & ticket price is 50rs\")\n",
    "\n",
    "\n",
    "        "
   ]
  },
  {
   "cell_type": "markdown",
   "metadata": {},
   "source": [
    "Calculate the sum of n natural numbers using a while and for loop"
   ]
  },
  {
   "cell_type": "code",
   "execution_count": 1,
   "metadata": {},
   "outputs": [
    {
     "name": "stdout",
     "output_type": "stream",
     "text": [
      "The sum of n natural number is : 55\n"
     ]
    }
   ],
   "source": [
    "n = 10\n",
    "sum = 0\n",
    "count = 1\n",
    "\n",
    "while count <= n:\n",
    "    sum = sum + count\n",
    "    count = count+1\n",
    "\n",
    "print(\"The sum of n natural number is :\" , sum)    "
   ]
  },
  {
   "cell_type": "code",
   "execution_count": 6,
   "metadata": {},
   "outputs": [
    {
     "name": "stdout",
     "output_type": "stream",
     "text": [
      "11\n"
     ]
    }
   ],
   "source": [
    "n = 10\n",
    "sum = 0\n",
    "\n",
    "for i in range(1,11):\n",
    "  i= n+1\n",
    "print(i)"
   ]
  }
 ],
 "metadata": {
  "kernelspec": {
   "display_name": "base",
   "language": "python",
   "name": "python3"
  },
  "language_info": {
   "codemirror_mode": {
    "name": "ipython",
    "version": 3
   },
   "file_extension": ".py",
   "mimetype": "text/x-python",
   "name": "python",
   "nbconvert_exporter": "python",
   "pygments_lexer": "ipython3",
   "version": "3.12.7"
  }
 },
 "nbformat": 4,
 "nbformat_minor": 2
}
