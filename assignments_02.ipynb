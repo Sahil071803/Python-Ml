{
 "cells": [
  {
   "cell_type": "markdown",
   "id": "cbac6ffb",
   "metadata": {},
   "source": [
    "# Module 2: Control Flow Assignments\n",
    "## Lesson 2.1: Conditional Statements\n",
    "### Assignment 1: Simple if Statement\n",
    "\n",
    "Write a program that asks the user to input a number and prints whether the number is positive.\n",
    "\n",
    "\n",
    "\n",
    "### Assignment 2: if-else Statement\n",
    "\n",
    "Write a program that asks the user to input a number and prints whether the number is positive or negative.\n",
    "\n",
    "### Assignment 3: if-elif-else Statement\n",
    "\n",
    "Write a program that asks the user to input a number and prints whether the number is positive, negative, or zero.\n",
    "\n",
    "### Assignment 4: Nested if Statement\n",
    "\n",
    "Write a program that asks the user to input a number and prints whether the number is positive and even, positive and odd, or negative.\n",
    "\n",
    "## Lesson 2.2: Loops\n",
    "### Assignment 5: for Loop\n",
    "\n",
    "Write a program that prints all the numbers from 1 to 10 using a for loop.\n",
    "\n",
    "### Assignment 6: while Loop\n",
    "\n",
    "Write a program that prints all the numbers from 1 to 10 using a while loop.\n",
    "\n",
    "### Assignment 7: Nested Loops\n",
    "\n",
    "Write a program that prints a 5x5 grid of asterisks (*) using nested loops.\n",
    "\n",
    "### Assignment 8: break Statement\n",
    "\n",
    "Write a program that asks the user to input numbers until they input 0. The program should print the sum of all the input numbers.\n",
    "\n",
    "### Assignment 9: continue Statement\n",
    "\n",
    "Write a program that prints all the numbers from 1 to 10 except 5 using a for loop and continue statement.\n",
    "\n",
    "### Assignment 10: pass Statement\n",
    "\n",
    "Write a program that defines an empty function using the pass statement.\n",
    "\n",
    "### Assignment 11: Combining Loops and Conditionals\n",
    "\n",
    "Write a program that asks the user to input a number and prints all the even numbers from 1 to that number using a for loop.\n",
    "\n",
    "### Assignment 12: Fibonacci Sequence\n",
    "\n",
    "Write a program that prints the first n Fibonacci numbers, where n is input by the user."
   ]
  },
  {
   "cell_type": "markdown",
   "id": "4b68db7b",
   "metadata": {},
   "source": [
    "## Lesson 2.1: Conditional Statements\n"
   ]
  },
  {
   "cell_type": "markdown",
   "id": "e7bc802a",
   "metadata": {},
   "source": [
    " Assignment 1: Simple if Statement\n",
    "\n",
    "Write a program that asks the user to input a number and prints whether the number is positive."
   ]
  },
  {
   "cell_type": "code",
   "execution_count": 4,
   "metadata": {},
   "outputs": [
    {
     "name": "stdout",
     "output_type": "stream",
     "text": [
      "The number is positive\n"
     ]
    }
   ],
   "source": [
    "num = int(input(\"Enter the number\"))\n",
    "\n",
    "\n",
    "if num >= 0:\n",
    "    print(\"The number is positive\")\n",
    "\n",
    "  \n"
   ]
  },
  {
   "cell_type": "markdown",
   "id": "6870b837",
   "metadata": {},
   "source": [
    " Assignment 2: if-else Statement\n",
    "\n",
    "Write a program that asks the user to input a number and prints whether the number is positive or negative."
   ]
  },
  {
   "cell_type": "code",
   "execution_count": 3,
   "id": "8a2087b1",
   "metadata": {},
   "outputs": [
    {
     "name": "stdout",
     "output_type": "stream",
     "text": [
      "The number is positive\n"
     ]
    }
   ],
   "source": [
    "num = int(input(\"Enter the number\"))\n",
    "\n",
    "\n",
    "if num >= 0:\n",
    "    print(\"The number is positive\")\n",
    "\n",
    "else:\n",
    "    print(\"The number is negative\")    \n"
   ]
  },
  {
   "cell_type": "markdown",
   "id": "5a804444",
   "metadata": {},
   "source": [
    "Assignment 3: if-elif-else Statement\n",
    "\n",
    "Write a program that asks the user to input a number and prints whether the number is positive, negative, or zero."
   ]
  },
  {
   "cell_type": "code",
   "execution_count": 10,
   "id": "1bff7209",
   "metadata": {},
   "outputs": [
    {
     "name": "stdout",
     "output_type": "stream",
     "text": [
      "The number is negative\n"
     ]
    }
   ],
   "source": [
    "num = int(input(\"Enter the number\"))\n",
    "\n",
    "if num >= 1:\n",
    "    print(\"The number is positive\")\n",
    "\n",
    "elif num <=0: \n",
    "    print(\"The number is negative\") \n",
    "\n",
    "else:\n",
    "    print(\"The number is zero\")    "
   ]
  },
  {
   "cell_type": "markdown",
   "id": "361b2f42",
   "metadata": {},
   "source": [
    "Assignment 4: Nested if Statement\n",
    "\n",
    "Write a program that asks the user to input a number and prints whether the number is positive and even, positive and odd, or negative."
   ]
  },
  {
   "cell_type": "code",
   "execution_count": 12,
   "id": "0eee38b2",
   "metadata": {},
   "outputs": [
    {
     "name": "stdout",
     "output_type": "stream",
     "text": [
      "The number is positive\n",
      "The number is positive and even\n",
      "The program is perfect\n"
     ]
    }
   ],
   "source": [
    "number = int(input(\"Enter the number\"))\n",
    "\n",
    "if number >= 0:\n",
    "   print(\"The number is positive\")\n",
    "   if number %2 == 0:\n",
    "      print(\"The number is positive and even\")\n",
    "   else:\n",
    "      print(\"The number is positive and odd\") \n",
    "else:\n",
    "   print(\"The number is negative\")    \n",
    "\n",
    "print(\"The program is perfect\")      \n"
   ]
  },
  {
   "cell_type": "markdown",
   "id": "a07f0a7d",
   "metadata": {},
   "source": [
    "\n",
    "## Lesson 2.2: Loops"
   ]
  },
  {
   "cell_type": "markdown",
   "id": "cff29771",
   "metadata": {},
   "source": [
    "Assignment 5: for Loop\n",
    "\n",
    "Write a program that prints all the numbers from 1 to 10 using a for loop."
   ]
  },
  {
   "cell_type": "code",
   "execution_count": 9,
   "id": "62a3d791",
   "metadata": {},
   "outputs": [
    {
     "name": "stdout",
     "output_type": "stream",
     "text": [
      "1\n",
      "2\n",
      "3\n",
      "4\n",
      "5\n",
      "6\n",
      "7\n",
      "8\n",
      "9\n"
     ]
    }
   ],
   "source": [
    "for i in range(1,10):\n",
    "    print(i)"
   ]
  },
  {
   "cell_type": "markdown",
   "id": "e5046efd",
   "metadata": {},
   "source": [
    "Assignment 6: while Loop\n",
    "\n",
    "Write a program that prints all the numbers from 1 to 10 using a while loop."
   ]
  },
  {
   "cell_type": "code",
   "execution_count": 14,
   "id": "4f94cc37",
   "metadata": {},
   "outputs": [
    {
     "name": "stdout",
     "output_type": "stream",
     "text": [
      "0\n",
      "1\n",
      "2\n",
      "3\n",
      "4\n",
      "5\n",
      "6\n",
      "7\n",
      "8\n",
      "9\n"
     ]
    }
   ],
   "source": [
    "\n",
    "count = 0\n",
    "\n",
    "while count<10:\n",
    "    print(count)\n",
    "    count = count+1\n",
    "    \n",
    "\n",
    "     \n"
   ]
  },
  {
   "cell_type": "markdown",
   "id": "8076aa55",
   "metadata": {},
   "source": [
    "Assignment 7: Nested Loops\n",
    "\n",
    "**Write a program that prints a 5x5 grid of asterisks (*) using nested loops.**"
   ]
  },
  {
   "cell_type": "code",
   "execution_count": 26,
   "id": "e5d0c4bd",
   "metadata": {},
   "outputs": [
    {
     "name": "stdout",
     "output_type": "stream",
     "text": [
      "*****\n",
      "*****\n",
      "*****\n",
      "*****\n",
      "*****\n"
     ]
    }
   ],
   "source": [
    "\n",
    "for i in range(5):\n",
    "    for j in range(5):\n",
    "        print(\"*\" , end= \"\")\n",
    "    print()    "
   ]
  },
  {
   "cell_type": "markdown",
   "id": "56d30ccf",
   "metadata": {},
   "source": [
    " Assignment 8: break Statement\n",
    "\n",
    "Write a program that asks the user to input numbers until they input 0. The program should print the sum of all the input numbers."
   ]
  },
  {
   "cell_type": "code",
   "execution_count": 21,
   "id": "04f53ac0",
   "metadata": {},
   "outputs": [
    {
     "name": "stdout",
     "output_type": "stream",
     "text": [
      "The sum of all entered numbers is: 0\n"
     ]
    }
   ],
   "source": [
    "sum = 0 \n",
    "\n",
    "while True :\n",
    "    num = int(input(\"Enter a number (0 to stop): \")) \n",
    "    if num == 0:  \n",
    "        break\n",
    "    sum += num  \n",
    "\n",
    "print(\"The sum of all entered numbers is:\", sum)\n",
    "   "
   ]
  },
  {
   "cell_type": "markdown",
   "id": "2c813fec",
   "metadata": {},
   "source": [
    "Assignment 9: continue Statement\n",
    "\n",
    "Write a program that prints all the numbers from 1 to 10 except 5 using a for loop and continue statement."
   ]
  },
  {
   "cell_type": "code",
   "execution_count": 27,
   "id": "fdc30b30",
   "metadata": {},
   "outputs": [
    {
     "name": "stdout",
     "output_type": "stream",
     "text": [
      "1\n",
      "2\n",
      "3\n",
      "4\n",
      "6\n",
      "7\n",
      "8\n",
      "9\n"
     ]
    }
   ],
   "source": [
    "sum = 0\n",
    "\n",
    "for i in range(1,10):\n",
    "    if i==5:\n",
    "        continue\n",
    "    print(i)\n",
    "   \n"
   ]
  },
  {
   "cell_type": "markdown",
   "id": "d8b32e57",
   "metadata": {},
   "source": [
    "Assignment 10: pass Statement\n",
    "\n",
    "Write a program that defines an empty function using the pass statement."
   ]
  },
  {
   "cell_type": "code",
   "execution_count": 38,
   "id": "787ad996",
   "metadata": {},
   "outputs": [],
   "source": [
    "def my_fun():\n",
    "    pass\n",
    "my_fun()"
   ]
  },
  {
   "cell_type": "markdown",
   "id": "6bf0e22c",
   "metadata": {},
   "source": [
    "Assignment 12: Fibonacci Sequence\n",
    "\n",
    "Write a program that prints the first n Fibonacci numbers, where n is input by the user."
   ]
  },
  {
   "cell_type": "code",
   "execution_count": 34,
   "id": "5eed3b5c",
   "metadata": {},
   "outputs": [
    {
     "name": "stdout",
     "output_type": "stream",
     "text": [
      "0 1\n",
      "1 1\n",
      "1 2\n",
      "2 3\n",
      "3 5\n",
      "5 8\n"
     ]
    }
   ],
   "source": [
    "n = int(input(\"Enter the Fibonacci Sequence:\"))\n",
    "\n",
    "a = 0\n",
    "b = 1\n",
    "\n",
    "count = 1\n",
    "while count < n:\n",
    "    print(a,b)\n",
    "    a,b = b,a+b\n",
    "\n",
    "    count = count+1\n",
    "\n",
    "   \n",
    "\n",
    "    \n",
    "\n"
   ]
  },
  {
   "cell_type": "markdown",
   "id": "54d7d202",
   "metadata": {},
   "source": [
    "Assignment 11: Combining Loops and Conditionals\n",
    "\n",
    "Write a program that asks the user to input a number and prints all the even numbers from 1 to that number using a for loop."
   ]
  },
  {
   "cell_type": "code",
   "execution_count": 35,
   "id": "b4320d5d",
   "metadata": {},
   "outputs": [
    {
     "name": "stdout",
     "output_type": "stream",
     "text": [
      "2\n",
      "4\n",
      "6\n",
      "8\n"
     ]
    }
   ],
   "source": [
    "n = int(input(\"Enter the number\"))\n",
    "\n",
    "for i in range(1,10):\n",
    "    if i %2==0:\n",
    "        print(i)"
   ]
  }
 ],
 "metadata": {
  "kernelspec": {
   "display_name": "base",
   "language": "python",
   "name": "python3"
  },
  "language_info": {
   "codemirror_mode": {
    "name": "ipython",
    "version": 3
   },
   "file_extension": ".py",
   "mimetype": "text/x-python",
   "name": "python",
   "nbconvert_exporter": "python",
   "pygments_lexer": "ipython3",
   "version": "3.12.7"
  }
 },
 "nbformat": 4,
 "nbformat_minor": 5
}
